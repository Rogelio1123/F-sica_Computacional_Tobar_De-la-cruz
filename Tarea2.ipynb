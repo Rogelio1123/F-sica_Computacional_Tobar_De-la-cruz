{
 "cells": [
  {
   "cell_type": "code",
   "execution_count": 6,
   "metadata": {
    "collapsed": false
   },
   "outputs": [
    {
     "ename": "LoadError",
     "evalue": "syntax: missing separator in tuple\nwhile loading In[6], in expression starting on line 5",
     "output_type": "error",
     "traceback": [
      "syntax: missing separator in tuple\nwhile loading In[6], in expression starting on line 5",
      ""
     ]
    }
   ],
   "source": [
    "function raices(A)\n",
    "    x=sqrt(A)-1;\n",
    "    for i in 1:10000\n",
    "        x=x-((((A-x^2)^(1/2))-x*tand(x))\n",
    "    end\n",
    "   y=((A-x^2)^(1/2))-x*tand(x);\n",
    "    println(x)\n",
    "    println(y)\n",
    "end\n"
   ]
  },
  {
   "cell_type": "code",
   "execution_count": 4,
   "metadata": {
    "collapsed": false
   },
   "outputs": [
    {
     "ename": "LoadError",
     "evalue": "DomainError\nwhile loading In[4], in expression starting on line 1",
     "output_type": "error",
     "traceback": [
      "DomainError\nwhile loading In[4], in expression starting on line 1",
      "",
      " in raices at In[3]:4"
     ]
    }
   ],
   "source": [
    "raices(90)"
   ]
  },
  {
   "cell_type": "code",
   "execution_count": 31,
   "metadata": {
    "collapsed": false
   },
   "outputs": [
    {
     "name": "stdout",
     "output_type": "stream",
     "text": [
      "-1.2366202942529988e16\n"
     ]
    }
   ],
   "source": [
    "A=45\n",
    "x=42.411500823462205\n",
    "y=((A^2-x^2)^(1/2))-x*tan(x)\n",
    "    println(y)"
   ]
  },
  {
   "cell_type": "code",
   "execution_count": 48,
   "metadata": {
    "collapsed": false
   },
   "outputs": [
    {
     "data": {
      "text/plain": [
       "1.6606642447112814e16"
      ]
     },
     "execution_count": 48,
     "metadata": {},
     "output_type": "execute_result"
    }
   ],
   "source": [
    "1.6606642447112814e16"
   ]
  },
  {
   "cell_type": "code",
   "execution_count": 5,
   "metadata": {
    "collapsed": false
   },
   "outputs": [
    {
     "data": {
      "text/plain": [
       "1.414213562373095"
      ]
     },
     "execution_count": 5,
     "metadata": {},
     "output_type": "execute_result"
    }
   ],
   "source": [
    "secd(45)"
   ]
  },
  {
   "cell_type": "code",
   "execution_count": null,
   "metadata": {
    "collapsed": true
   },
   "outputs": [],
   "source": []
  }
 ],
 "metadata": {
  "kernelspec": {
   "display_name": "Julia 0.3.12",
   "language": "julia",
   "name": "julia-0.3"
  },
  "language_info": {
   "file_extension": ".jl",
   "mimetype": "application/julia",
   "name": "julia",
   "version": "0.3.12"
  }
 },
 "nbformat": 4,
 "nbformat_minor": 2
}
