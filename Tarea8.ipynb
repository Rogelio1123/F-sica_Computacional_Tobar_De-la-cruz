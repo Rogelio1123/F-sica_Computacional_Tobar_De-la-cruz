{
 "cells": [
  {
   "cell_type": "markdown",
   "metadata": {},
   "source": [
    "# Ejercicio 1"
   ]
  },
  {
   "cell_type": "code",
   "execution_count": 2,
   "metadata": {
    "collapsed": false
   },
   "outputs": [],
   "source": [
    "function derivada_numerica(f,x,h)\n",
    "    g=(f(x+h)-f(x))/h\n",
    "    return g\n",
    "end;"
   ]
  },
  {
   "cell_type": "code",
   "execution_count": 11,
   "metadata": {
    "collapsed": false
   },
   "outputs": [
    {
     "data": {
      "text/latex": [
       "$$4.00999999999989$$"
      ],
      "text/plain": [
       "4.00999999999989"
      ]
     },
     "execution_count": 11,
     "metadata": {},
     "output_type": "execute_result"
    }
   ],
   "source": [
    "derivada_numerica(x^2,2,0.01)"
   ]
  },
  {
   "cell_type": "markdown",
   "metadata": {},
   "source": [
    "La derivada anterior vale exactamente 4."
   ]
  },
  {
   "cell_type": "markdown",
   "metadata": {},
   "source": [
    "# Ejercicio 7\n"
   ]
  },
  {
   "cell_type": "markdown",
   "metadata": {},
   "source": [
    "Como $\\Delta_{h}=exp(h\\frac{d}{ds}\\mid_{s=x})-1$ entonces $\\Delta_{-h}=exp(-h\\frac{d}{ds}\\mid_{s=x})-1$ implica $\\delta_{h} = exp(h\\frac{d}{ds}\\mid_{s=x})-exp(-h\\frac{d}{ds}\\mid_{s=x})=2senh(h\\frac{d}{ds}\\mid_{s=x})$, por lo tanto $\\frac{d}{ds}\\mid_{s=x}=\\frac{1}{h}senh^{-1}(\\frac{\\delta_{h}}{2})$"
   ]
  },
  {
   "cell_type": "code",
   "execution_count": 33,
   "metadata": {
    "collapsed": false
   },
   "outputs": [],
   "source": [
    "function Taylor(f,n)\n",
    "    x=Sym(\"x\");\n",
    "    g=0;\n",
    "    for i in 1:n\n",
    "        g=g+(diff(f(x),x,i)(0)/factorial(i))*x^i\n",
    "    end\n",
    "    return g\n",
    "end;"
   ]
  },
  {
   "cell_type": "code",
   "execution_count": 34,
   "metadata": {
    "collapsed": false
   },
   "outputs": [],
   "source": [
    "h(t)=asinh(t);"
   ]
  },
  {
   "cell_type": "code",
   "execution_count": 27,
   "metadata": {
    "collapsed": false
   },
   "outputs": [
    {
     "data": {
      "text/latex": [
       "$$- \\frac{63 x^{11}}{2816} + \\frac{35 x^{9}}{1152} - \\frac{5 x^{7}}{112} + \\frac{3 x^{5}}{40} - \\frac{x^{3}}{6} + x$$"
      ],
      "text/plain": [
       "      11       9      7      5    3    \n",
       "  63*x     35*x    5*x    3*x    x     \n",
       "- ------ + ----- - ---- + ---- - -- + x\n",
       "   2816     1152   112     40    6     "
      ]
     },
     "execution_count": 27,
     "metadata": {},
     "output_type": "execute_result"
    }
   ],
   "source": [
    "Taylor(h,12)"
   ]
  },
  {
   "cell_type": "markdown",
   "metadata": {},
   "source": [
    "De acuerdo al desarrollo de Taylor, a primer orden $\\frac{d}{ds}\\mid_{s=x}=\\frac{\\delta_h}{2 h}$"
   ]
  }
 ],
 "metadata": {
  "kernelspec": {
   "display_name": "Julia 0.6.0",
   "language": "julia",
   "name": "julia-0.6"
  },
  "language_info": {
   "file_extension": ".jl",
   "mimetype": "application/julia",
   "name": "julia",
   "version": "0.6.0"
  }
 },
 "nbformat": 4,
 "nbformat_minor": 2
}
