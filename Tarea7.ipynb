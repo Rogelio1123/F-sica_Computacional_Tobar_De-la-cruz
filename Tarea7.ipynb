{
 "cells": [
  {
   "cell_type": "code",
   "execution_count": 99,
   "metadata": {
    "collapsed": false
   },
   "outputs": [
    {
     "name": "stderr",
     "output_type": "stream",
     "text": [
      "\u001b[1m\u001b[36mINFO: \u001b[39m\u001b[22m\u001b[36mPackage SymPy is already installed\n",
      "\u001b[39m\u001b[1m\u001b[36mINFO: \u001b[39m\u001b[22m\u001b[36mMETADATA is out-of-date — you may not have the latest version of SymPy\n",
      "\u001b[39m\u001b[1m\u001b[36mINFO: \u001b[39m\u001b[22m\u001b[36mUse `Pkg.update()` to get the latest versions of your packages\n",
      "\u001b[39m"
     ]
    }
   ],
   "source": [
    "Pkg.add(\"SymPy\");\n"
   ]
  },
  {
   "cell_type": "code",
   "execution_count": 100,
   "metadata": {
    "collapsed": false
   },
   "outputs": [],
   "source": [
    "using SymPy;"
   ]
  },
  {
   "cell_type": "code",
   "execution_count": 25,
   "metadata": {
    "collapsed": false
   },
   "outputs": [
    {
     "name": "stderr",
     "output_type": "stream",
     "text": [
      "\u001b[1m\u001b[36mINFO: \u001b[39m\u001b[22m\u001b[36mPackage PyPlot is already installed\n",
      "\u001b[39m\u001b[1m\u001b[36mINFO: \u001b[39m\u001b[22m\u001b[36mMETADATA is out-of-date — you may not have the latest version of PyPlot\n",
      "\u001b[39m\u001b[1m\u001b[36mINFO: \u001b[39m\u001b[22m\u001b[36mUse `Pkg.update()` to get the latest versions of your packages\n",
      "\u001b[39m"
     ]
    }
   ],
   "source": [
    "Pkg.add(\"PyPlot\")"
   ]
  },
  {
   "cell_type": "code",
   "execution_count": 26,
   "metadata": {
    "collapsed": false
   },
   "outputs": [],
   "source": [
    "using PyPlot;"
   ]
  },
  {
   "cell_type": "code",
   "execution_count": 101,
   "metadata": {
    "collapsed": false
   },
   "outputs": [],
   "source": [
    "A,x,E,n,m,g,L,t,c=symbols(\"A,x,E,n,m,g,L,t,c\");"
   ]
  },
  {
   "cell_type": "markdown",
   "metadata": {},
   "source": [
    "# Ejercicio 3"
   ]
  },
  {
   "cell_type": "markdown",
   "metadata": {},
   "source": [
    "Se genera una rutina para integración con Sipmson"
   ]
  },
  {
   "cell_type": "code",
   "execution_count": 97,
   "metadata": {
    "collapsed": false
   },
   "outputs": [],
   "source": [
    "function integracionS(A,a,b,j)\n",
    "    i=1\n",
    "    x=0\n",
    "    while a+i*j < b \n",
    "        h=a+i*j\n",
    "        g=a+(i-1)*j\n",
    "        I=(j/6)*(A(g)+A(h)+4*A((h+g)/2))\n",
    "        x=x+I\n",
    "        i=i+1\n",
    "    end\n",
    "    return x\n",
    "end;"
   ]
  },
  {
   "cell_type": "markdown",
   "metadata": {},
   "source": [
    "Ejemplo de integración con Simpson"
   ]
  },
  {
   "cell_type": "code",
   "execution_count": 7,
   "metadata": {
    "collapsed": false
   },
   "outputs": [
    {
     "data": {
      "text/latex": [
       "$$233.190899666667$$"
      ],
      "text/plain": [
       "233.190899666667"
      ]
     },
     "execution_count": 7,
     "metadata": {},
     "output_type": "execute_result"
    }
   ],
   "source": [
    "integracionS(x^2,3,9,0.01)"
   ]
  },
  {
   "cell_type": "markdown",
   "metadata": {},
   "source": [
    "# Ejercicio 4"
   ]
  },
  {
   "cell_type": "markdown",
   "metadata": {},
   "source": [
    "Se genera una rutina para la interpolación de una función a partir de los valores de la variable independiente"
   ]
  },
  {
   "cell_type": "code",
   "execution_count": 96,
   "metadata": {
    "collapsed": false
   },
   "outputs": [],
   "source": [
    "function interpolacion(g,x)\n",
    "    k=length(x)\n",
    "    j=1\n",
    "    L=0\n",
    "    w=0\n",
    "    while j <= k\n",
    "        o=1\n",
    "        m=1\n",
    "        while m <= k\n",
    "            if m==j\n",
    "                o= o*1\n",
    "            else\n",
    "                o= o*((t-x[m])/(x[j]-x[m]))\n",
    "            end\n",
    "            m=m+1\n",
    "        end\n",
    "        w=x[j];\n",
    "        L = L + (g(w))*o\n",
    "        j=j+1\n",
    "    end\n",
    "    return L\n",
    "end;"
   ]
  },
  {
   "cell_type": "code",
   "execution_count": 95,
   "metadata": {
    "collapsed": false
   },
   "outputs": [],
   "source": [
    "x=[0,40,80,120,160,200,240,280,320,360];"
   ]
  },
  {
   "cell_type": "markdown",
   "metadata": {},
   "source": [
    "Se interpola la función $Cos(x)$"
   ]
  },
  {
   "cell_type": "code",
   "execution_count": 94,
   "metadata": {
    "collapsed": false
   },
   "outputs": [],
   "source": [
    "\n",
    "f(n)=cosd(n);"
   ]
  },
  {
   "cell_type": "code",
   "execution_count": 17,
   "metadata": {
    "collapsed": false
   },
   "outputs": [
    {
     "data": {
      "text/latex": [
       "$$0.0191511110779745 t \\left(- \\frac{t}{40} + 2\\right) \\left(- \\frac{t}{80} + \\frac{3}{2}\\right) \\left(- \\frac{t}{120} + \\frac{4}{3}\\right) \\left(- \\frac{t}{160} + \\frac{5}{4}\\right) \\left(- \\frac{t}{200} + \\frac{6}{5}\\right) \\left(- \\frac{t}{240} + \\frac{7}{6}\\right) \\left(- \\frac{t}{280} + \\frac{8}{7}\\right) \\left(- \\frac{t}{320} + \\frac{9}{8}\\right) + 0.00217060222083663 t \\left(- \\frac{t}{40} + 3\\right) \\left(- \\frac{t}{80} + 2\\right) \\left(- \\frac{t}{120} + \\frac{5}{3}\\right) \\left(- \\frac{t}{160} + \\frac{3}{2}\\right) \\left(- \\frac{t}{200} + \\frac{7}{5}\\right) \\left(- \\frac{t}{240} + \\frac{4}{3}\\right) \\left(- \\frac{t}{280} + \\frac{9}{7}\\right) \\left(\\frac{t}{40} - 1\\right) - 0.00416666666666667 t \\left(- \\frac{t}{40} + 4\\right) \\left(- \\frac{t}{80} + \\frac{5}{2}\\right) \\left(- \\frac{t}{120} + 2\\right) \\left(- \\frac{t}{160} + \\frac{7}{4}\\right) \\left(- \\frac{t}{200} + \\frac{8}{5}\\right) \\left(- \\frac{t}{240} + \\frac{3}{2}\\right) \\left(\\frac{t}{80} - \\frac{1}{2}\\right) \\left(\\frac{t}{40} - 2\\right) - 0.00587307887991193 t \\left(- \\frac{t}{40} + 5\\right) \\left(- \\frac{t}{80} + 3\\right) \\left(- \\frac{t}{120} + \\frac{7}{3}\\right) \\left(- \\frac{t}{160} + 2\\right) \\left(- \\frac{t}{200} + \\frac{9}{5}\\right) \\left(\\frac{t}{120} - \\frac{1}{3}\\right) \\left(\\frac{t}{80} - 1\\right) \\left(\\frac{t}{40} - 3\\right) - 0.00469846310392954 t \\left(- \\frac{t}{40} + 6\\right) \\left(- \\frac{t}{80} + \\frac{7}{2}\\right) \\left(- \\frac{t}{120} + \\frac{8}{3}\\right) \\left(- \\frac{t}{160} + \\frac{9}{4}\\right) \\left(\\frac{t}{160} - \\frac{1}{4}\\right) \\left(\\frac{t}{120} - \\frac{2}{3}\\right) \\left(\\frac{t}{80} - \\frac{3}{2}\\right) \\left(\\frac{t}{40} - 4\\right) - 0.00208333333333333 t \\left(- \\frac{t}{40} + 7\\right) \\left(- \\frac{t}{80} + 4\\right) \\left(- \\frac{t}{120} + 3\\right) \\left(\\frac{t}{200} - \\frac{1}{5}\\right) \\left(\\frac{t}{160} - \\frac{1}{2}\\right) \\left(\\frac{t}{120} - 1\\right) \\left(\\frac{t}{80} - 2\\right) \\left(\\frac{t}{40} - 5\\right) + 0.00062017206309618 t \\left(- \\frac{t}{40} + 8\\right) \\left(- \\frac{t}{80} + \\frac{9}{2}\\right) \\left(\\frac{t}{240} - \\frac{1}{6}\\right) \\left(\\frac{t}{200} - \\frac{2}{5}\\right) \\left(\\frac{t}{160} - \\frac{3}{4}\\right) \\left(\\frac{t}{120} - \\frac{4}{3}\\right) \\left(\\frac{t}{80} - \\frac{5}{2}\\right) \\left(\\frac{t}{40} - 6\\right) + 0.00239388888474681 t \\left(- \\frac{t}{40} + 9\\right) \\left(\\frac{t}{280} - \\frac{1}{7}\\right) \\left(\\frac{t}{240} - \\frac{1}{3}\\right) \\left(\\frac{t}{200} - \\frac{3}{5}\\right) \\left(\\frac{t}{160} - 1\\right) \\left(\\frac{t}{120} - \\frac{5}{3}\\right) \\left(\\frac{t}{80} - 3\\right) \\left(\\frac{t}{40} - 7\\right) + 0.00277777777777778 t \\left(\\frac{t}{320} - \\frac{1}{8}\\right) \\left(\\frac{t}{280} - \\frac{2}{7}\\right) \\left(\\frac{t}{240} - \\frac{1}{2}\\right) \\left(\\frac{t}{200} - \\frac{4}{5}\\right) \\left(\\frac{t}{160} - \\frac{5}{4}\\right) \\left(\\frac{t}{120} - 2\\right) \\left(\\frac{t}{80} - \\frac{7}{2}\\right) \\left(\\frac{t}{40} - 8\\right) + 1.0 \\left(- \\frac{t}{40} + 1\\right) \\left(- \\frac{t}{80} + 1\\right) \\left(- \\frac{t}{120} + 1\\right) \\left(- \\frac{t}{160} + 1\\right) \\left(- \\frac{t}{200} + 1\\right) \\left(- \\frac{t}{240} + 1\\right) \\left(- \\frac{t}{280} + 1\\right) \\left(- \\frac{t}{320} + 1\\right) \\left(- \\frac{t}{360} + 1\\right)$$"
      ],
      "text/plain": [
       "                     /  t     \\ /  t    3\\ /   t    4\\ /   t    5\\ /   t    6\\\n",
       "0.0191511110779745*t*|- -- + 2|*|- -- + -|*|- --- + -|*|- --- + -|*|- --- + -|\n",
       "                     \\  40    / \\  80   2/ \\  120   3/ \\  160   4/ \\  200   5/\n",
       "\n",
       " /   t    7\\ /   t    8\\ /   t    9\\                         /  t     \\ /  t  \n",
       "*|- --- + -|*|- --- + -|*|- --- + -| + 0.00217060222083663*t*|- -- + 3|*|- -- \n",
       " \\  240   6/ \\  280   7/ \\  320   8/                         \\  40    / \\  80 \n",
       "\n",
       "   \\ /   t    5\\ /   t    3\\ /   t    7\\ /   t    4\\ /   t    9\\ /t     \\     \n",
       "+ 2|*|- --- + -|*|- --- + -|*|- --- + -|*|- --- + -|*|- --- + -|*|-- - 1| - 0.\n",
       "   / \\  120   3/ \\  160   2/ \\  200   5/ \\  240   3/ \\  280   7/ \\40    /     \n",
       "\n",
       "                    /  t     \\ /  t    5\\ /   t     \\ /   t    7\\ /   t    8\\ \n",
       "00416666666666667*t*|- -- + 4|*|- -- + -|*|- --- + 2|*|- --- + -|*|- --- + -|*\n",
       "                    \\  40    / \\  80   2/ \\  120    / \\  160   4/ \\  200   5/ \n",
       "\n",
       "/   t    3\\ /t    1\\ /t     \\                         /  t     \\ /  t     \\ / \n",
       "|- --- + -|*|-- - -|*|-- - 2| - 0.00587307887991193*t*|- -- + 5|*|- -- + 3|*|-\n",
       "\\  240   2/ \\80   2/ \\40    /                         \\  40    / \\  80    / \\ \n",
       "\n",
       "  t    7\\ /   t     \\ /   t    9\\ / t    1\\ /t     \\ /t     \\                 \n",
       " --- + -|*|- --- + 2|*|- --- + -|*|--- - -|*|-- - 1|*|-- - 3| - 0.004698463103\n",
       " 120   3/ \\  160    / \\  200   5/ \\120   3/ \\80    / \\40    /                 \n",
       "\n",
       "        /  t     \\ /  t    7\\ /   t    8\\ /   t    9\\ / t    1\\ / t    2\\ /t  \n",
       "92954*t*|- -- + 6|*|- -- + -|*|- --- + -|*|- --- + -|*|--- - -|*|--- - -|*|-- \n",
       "        \\  40    / \\  80   2/ \\  120   3/ \\  160   4/ \\160   4/ \\120   3/ \\80 \n",
       "\n",
       "  3\\ /t     \\                         /  t     \\ /  t     \\ /   t     \\ / t   \n",
       "- -|*|-- - 4| - 0.00208333333333333*t*|- -- + 7|*|- -- + 4|*|- --- + 3|*|--- -\n",
       "  2/ \\40    /                         \\  40    / \\  80    / \\  120    / \\200  \n",
       "\n",
       " 1\\ / t    1\\ / t     \\ /t     \\ /t     \\                         /  t     \\ /\n",
       " -|*|--- - -|*|--- - 1|*|-- - 2|*|-- - 5| + 0.00062017206309618*t*|- -- + 8|*|\n",
       " 5/ \\160   2/ \\120    / \\80    / \\40    /                         \\  40    / \\\n",
       "\n",
       "  t    9\\ / t    1\\ / t    2\\ / t    3\\ / t    4\\ /t    5\\ /t     \\           \n",
       "- -- + -|*|--- - -|*|--- - -|*|--- - -|*|--- - -|*|-- - -|*|-- - 6| + 0.002393\n",
       "  80   2/ \\240   6/ \\200   5/ \\160   4/ \\120   3/ \\80   2/ \\40    /           \n",
       "\n",
       "              /  t     \\ / t    1\\ / t    1\\ / t    3\\ / t     \\ / t    5\\ /t \n",
       "88888474681*t*|- -- + 9|*|--- - -|*|--- - -|*|--- - -|*|--- - 1|*|--- - -|*|--\n",
       "              \\  40    / \\280   7/ \\240   3/ \\200   5/ \\160    / \\120   3/ \\80\n",
       "\n",
       "    \\ /t     \\                         / t    1\\ / t    2\\ / t    1\\ / t    4\\\n",
       " - 3|*|-- - 7| + 0.00277777777777778*t*|--- - -|*|--- - -|*|--- - -|*|--- - -|\n",
       "    / \\40    /                         \\320   8/ \\280   7/ \\240   2/ \\200   5/\n",
       "\n",
       " / t    5\\ / t     \\ /t    7\\ /t     \\       /  t     \\ /  t     \\ /   t     \\\n",
       "*|--- - -|*|--- - 2|*|-- - -|*|-- - 8| + 1.0*|- -- + 1|*|- -- + 1|*|- --- + 1|\n",
       " \\160   4/ \\120    / \\80   2/ \\40    /       \\  40    / \\  80    / \\  120    /\n",
       "\n",
       " /   t     \\ /   t     \\ /   t     \\ /   t     \\ /   t     \\ /   t     \\\n",
       "*|- --- + 1|*|- --- + 1|*|- --- + 1|*|- --- + 1|*|- --- + 1|*|- --- + 1|\n",
       " \\  160    / \\  200    / \\  240    / \\  280    / \\  320    / \\  360    /"
      ]
     },
     "execution_count": 17,
     "metadata": {},
     "output_type": "execute_result"
    }
   ],
   "source": [
    "h=interpolacion(f,x)"
   ]
  },
  {
   "cell_type": "markdown",
   "metadata": {},
   "source": [
    "Se interpola la funcion $Cos^2(x)$"
   ]
  },
  {
   "cell_type": "code",
   "execution_count": 93,
   "metadata": {
    "collapsed": false
   },
   "outputs": [],
   "source": [
    "v(n)=(cosd(n))^2;"
   ]
  },
  {
   "cell_type": "code",
   "execution_count": 19,
   "metadata": {
    "collapsed": false
   },
   "outputs": [
    {
     "data": {
      "text/latex": [
       "$$0.0146706022208366 t \\left(- \\frac{t}{40} + 2\\right) \\left(- \\frac{t}{80} + \\frac{3}{2}\\right) \\left(- \\frac{t}{120} + \\frac{4}{3}\\right) \\left(- \\frac{t}{160} + \\frac{5}{4}\\right) \\left(- \\frac{t}{200} + \\frac{6}{5}\\right) \\left(- \\frac{t}{240} + \\frac{7}{6}\\right) \\left(- \\frac{t}{280} + \\frac{8}{7}\\right) \\left(- \\frac{t}{320} + \\frac{9}{8}\\right) + 0.000376921120088073 t \\left(- \\frac{t}{40} + 3\\right) \\left(- \\frac{t}{80} + 2\\right) \\left(- \\frac{t}{120} + \\frac{5}{3}\\right) \\left(- \\frac{t}{160} + \\frac{3}{2}\\right) \\left(- \\frac{t}{200} + \\frac{7}{5}\\right) \\left(- \\frac{t}{240} + \\frac{4}{3}\\right) \\left(- \\frac{t}{280} + \\frac{9}{7}\\right) \\left(\\frac{t}{40} - 1\\right) + 0.00208333333333333 t \\left(- \\frac{t}{40} + 4\\right) \\left(- \\frac{t}{80} + \\frac{5}{2}\\right) \\left(- \\frac{t}{120} + 2\\right) \\left(- \\frac{t}{160} + \\frac{7}{4}\\right) \\left(- \\frac{t}{200} + \\frac{8}{5}\\right) \\left(- \\frac{t}{240} + \\frac{3}{2}\\right) \\left(\\frac{t}{80} - \\frac{1}{2}\\right) \\left(\\frac{t}{40} - 2\\right) + 0.00551888888474681 t \\left(- \\frac{t}{40} + 5\\right) \\left(- \\frac{t}{80} + 3\\right) \\left(- \\frac{t}{120} + \\frac{7}{3}\\right) \\left(- \\frac{t}{160} + 2\\right) \\left(- \\frac{t}{200} + \\frac{9}{5}\\right) \\left(\\frac{t}{120} - \\frac{1}{3}\\right) \\left(\\frac{t}{80} - 1\\right) \\left(\\frac{t}{40} - 3\\right) + 0.00441511110779745 t \\left(- \\frac{t}{40} + 6\\right) \\left(- \\frac{t}{80} + \\frac{7}{2}\\right) \\left(- \\frac{t}{120} + \\frac{8}{3}\\right) \\left(- \\frac{t}{160} + \\frac{9}{4}\\right) \\left(\\frac{t}{160} - \\frac{1}{4}\\right) \\left(\\frac{t}{120} - \\frac{2}{3}\\right) \\left(\\frac{t}{80} - \\frac{3}{2}\\right) \\left(\\frac{t}{40} - 4\\right) + 0.00104166666666667 t \\left(- \\frac{t}{40} + 7\\right) \\left(- \\frac{t}{80} + 4\\right) \\left(- \\frac{t}{120} + 3\\right) \\left(\\frac{t}{200} - \\frac{1}{5}\\right) \\left(\\frac{t}{160} - \\frac{1}{2}\\right) \\left(\\frac{t}{120} - 1\\right) \\left(\\frac{t}{80} - 2\\right) \\left(\\frac{t}{40} - 5\\right) + 0.000107691748596592 t \\left(- \\frac{t}{40} + 8\\right) \\left(- \\frac{t}{80} + \\frac{9}{2}\\right) \\left(\\frac{t}{240} - \\frac{1}{6}\\right) \\left(\\frac{t}{200} - \\frac{2}{5}\\right) \\left(\\frac{t}{160} - \\frac{3}{4}\\right) \\left(\\frac{t}{120} - \\frac{4}{3}\\right) \\left(\\frac{t}{80} - \\frac{5}{2}\\right) \\left(\\frac{t}{40} - 6\\right) + 0.00183382527760458 t \\left(- \\frac{t}{40} + 9\\right) \\left(\\frac{t}{280} - \\frac{1}{7}\\right) \\left(\\frac{t}{240} - \\frac{1}{3}\\right) \\left(\\frac{t}{200} - \\frac{3}{5}\\right) \\left(\\frac{t}{160} - 1\\right) \\left(\\frac{t}{120} - \\frac{5}{3}\\right) \\left(\\frac{t}{80} - 3\\right) \\left(\\frac{t}{40} - 7\\right) + 0.00277777777777778 t \\left(\\frac{t}{320} - \\frac{1}{8}\\right) \\left(\\frac{t}{280} - \\frac{2}{7}\\right) \\left(\\frac{t}{240} - \\frac{1}{2}\\right) \\left(\\frac{t}{200} - \\frac{4}{5}\\right) \\left(\\frac{t}{160} - \\frac{5}{4}\\right) \\left(\\frac{t}{120} - 2\\right) \\left(\\frac{t}{80} - \\frac{7}{2}\\right) \\left(\\frac{t}{40} - 8\\right) + 1.0 \\left(- \\frac{t}{40} + 1\\right) \\left(- \\frac{t}{80} + 1\\right) \\left(- \\frac{t}{120} + 1\\right) \\left(- \\frac{t}{160} + 1\\right) \\left(- \\frac{t}{200} + 1\\right) \\left(- \\frac{t}{240} + 1\\right) \\left(- \\frac{t}{280} + 1\\right) \\left(- \\frac{t}{320} + 1\\right) \\left(- \\frac{t}{360} + 1\\right)$$"
      ],
      "text/plain": [
       "                     /  t     \\ /  t    3\\ /   t    4\\ /   t    5\\ /   t    6\\\n",
       "0.0146706022208366*t*|- -- + 2|*|- -- + -|*|- --- + -|*|- --- + -|*|- --- + -|\n",
       "                     \\  40    / \\  80   2/ \\  120   3/ \\  160   4/ \\  200   5/\n",
       "\n",
       " /   t    7\\ /   t    8\\ /   t    9\\                          /  t     \\ /  t \n",
       "*|- --- + -|*|- --- + -|*|- --- + -| + 0.000376921120088073*t*|- -- + 3|*|- --\n",
       " \\  240   6/ \\  280   7/ \\  320   8/                          \\  40    / \\  80\n",
       "\n",
       "    \\ /   t    5\\ /   t    3\\ /   t    7\\ /   t    4\\ /   t    9\\ /t     \\    \n",
       " + 2|*|- --- + -|*|- --- + -|*|- --- + -|*|- --- + -|*|- --- + -|*|-- - 1| + 0\n",
       "    / \\  120   3/ \\  160   2/ \\  200   5/ \\  240   3/ \\  280   7/ \\40    /    \n",
       "\n",
       "                     /  t     \\ /  t    5\\ /   t     \\ /   t    7\\ /   t    8\\\n",
       ".00208333333333333*t*|- -- + 4|*|- -- + -|*|- --- + 2|*|- --- + -|*|- --- + -|\n",
       "                     \\  40    / \\  80   2/ \\  120    / \\  160   4/ \\  200   5/\n",
       "\n",
       " /   t    3\\ /t    1\\ /t     \\                         /  t     \\ /  t     \\ /\n",
       "*|- --- + -|*|-- - -|*|-- - 2| + 0.00551888888474681*t*|- -- + 5|*|- -- + 3|*|\n",
       " \\  240   2/ \\80   2/ \\40    /                         \\  40    / \\  80    / \\\n",
       "\n",
       "   t    7\\ /   t     \\ /   t    9\\ / t    1\\ /t     \\ /t     \\                \n",
       "- --- + -|*|- --- + 2|*|- --- + -|*|--- - -|*|-- - 1|*|-- - 3| + 0.00441511110\n",
       "  120   3/ \\  160    / \\  200   5/ \\120   3/ \\80    / \\40    /                \n",
       "\n",
       "         /  t     \\ /  t    7\\ /   t    8\\ /   t    9\\ / t    1\\ / t    2\\ /t \n",
       "779745*t*|- -- + 6|*|- -- + -|*|- --- + -|*|- --- + -|*|--- - -|*|--- - -|*|--\n",
       "         \\  40    / \\  80   2/ \\  120   3/ \\  160   4/ \\160   4/ \\120   3/ \\80\n",
       "\n",
       "   3\\ /t     \\                         /  t     \\ /  t     \\ /   t     \\ / t  \n",
       " - -|*|-- - 4| + 0.00104166666666667*t*|- -- + 7|*|- -- + 4|*|- --- + 3|*|--- \n",
       "   2/ \\40    /                         \\  40    / \\  80    / \\  120    / \\200 \n",
       "\n",
       "  1\\ / t    1\\ / t     \\ /t     \\ /t     \\                          /  t     \\\n",
       "- -|*|--- - -|*|--- - 1|*|-- - 2|*|-- - 5| + 0.000107691748596592*t*|- -- + 8|\n",
       "  5/ \\160   2/ \\120    / \\80    / \\40    /                          \\  40    /\n",
       "\n",
       " /  t    9\\ / t    1\\ / t    2\\ / t    3\\ / t    4\\ /t    5\\ /t     \\         \n",
       "*|- -- + -|*|--- - -|*|--- - -|*|--- - -|*|--- - -|*|-- - -|*|-- - 6| + 0.0018\n",
       " \\  80   2/ \\240   6/ \\200   5/ \\160   4/ \\120   3/ \\80   2/ \\40    /         \n",
       "\n",
       "                /  t     \\ / t    1\\ / t    1\\ / t    3\\ / t     \\ / t    5\\ /\n",
       "3382527760458*t*|- -- + 9|*|--- - -|*|--- - -|*|--- - -|*|--- - 1|*|--- - -|*|\n",
       "                \\  40    / \\280   7/ \\240   3/ \\200   5/ \\160    / \\120   3/ \\\n",
       "\n",
       "t     \\ /t     \\                         / t    1\\ / t    2\\ / t    1\\ / t    \n",
       "-- - 3|*|-- - 7| + 0.00277777777777778*t*|--- - -|*|--- - -|*|--- - -|*|--- - \n",
       "80    / \\40    /                         \\320   8/ \\280   7/ \\240   2/ \\200   \n",
       "\n",
       "4\\ / t    5\\ / t     \\ /t    7\\ /t     \\       /  t     \\ /  t     \\ /   t    \n",
       "-|*|--- - -|*|--- - 2|*|-- - -|*|-- - 8| + 1.0*|- -- + 1|*|- -- + 1|*|- --- + \n",
       "5/ \\160   4/ \\120    / \\80   2/ \\40    /       \\  40    / \\  80    / \\  120   \n",
       "\n",
       " \\ /   t     \\ /   t     \\ /   t     \\ /   t     \\ /   t     \\ /   t     \\\n",
       "1|*|- --- + 1|*|- --- + 1|*|- --- + 1|*|- --- + 1|*|- --- + 1|*|- --- + 1|\n",
       " / \\  160    / \\  200    / \\  240    / \\  280    / \\  320    / \\  360    /"
      ]
     },
     "execution_count": 19,
     "metadata": {},
     "output_type": "execute_result"
    }
   ],
   "source": [
    "p=interpolacion(v,x)"
   ]
  },
  {
   "cell_type": "markdown",
   "metadata": {},
   "source": [
    "Se genera una rutina para la interpolación de una lista de puntos."
   ]
  },
  {
   "cell_type": "code",
   "execution_count": 92,
   "metadata": {
    "collapsed": false
   },
   "outputs": [],
   "source": [
    "function interpolacionL(g,x)\n",
    "    k=length(x)\n",
    "    j=1\n",
    "    L=0\n",
    "    while j <= k\n",
    "        o=1\n",
    "        m=1\n",
    "        while m <= k\n",
    "            if m==j\n",
    "                o= o*1\n",
    "            else\n",
    "                o= o*((t-x[m])/(x[j]-x[m]))\n",
    "            end\n",
    "            m=m+1\n",
    "        end\n",
    "        L = L + (g[j])*o\n",
    "        j=j+1\n",
    "    end\n",
    "    return L\n",
    "end;"
   ]
  },
  {
   "cell_type": "code",
   "execution_count": 91,
   "metadata": {
    "collapsed": false
   },
   "outputs": [],
   "source": [
    "x1=[1,2,3,4,5,6,7]\n",
    "y1=[10,-10,-4,0,5,20,-1];"
   ]
  },
  {
   "cell_type": "code",
   "execution_count": 27,
   "metadata": {
    "collapsed": false
   },
   "outputs": [
    {
     "data": {
      "text/latex": [
       "$$- \\frac{3 t}{4} \\left(- \\frac{t}{3} - \\frac{1}{3}\\right) \\left(- \\frac{t}{9} + \\frac{5}{9}\\right) \\left(- \\frac{t}{14} + \\frac{5}{7}\\right) \\left(- \\frac{t}{24} + \\frac{5}{6}\\right) \\left(\\frac{t}{6} + \\frac{5}{3}\\right) + t \\left(- \\frac{t}{5} + 2\\right) \\left(- \\frac{t}{15} + \\frac{4}{3}\\right) \\left(\\frac{t}{15} + \\frac{2}{3}\\right) \\left(\\frac{t}{9} + \\frac{4}{9}\\right) \\left(\\frac{t}{6} + \\frac{1}{6}\\right) - \\frac{t}{5} \\left(- \\frac{t}{6} - \\frac{2}{3}\\right) \\left(- \\frac{t}{9} - \\frac{1}{9}\\right) \\left(- \\frac{t}{15} + \\frac{1}{3}\\right) \\left(- \\frac{t}{20} + \\frac{1}{2}\\right) \\left(- \\frac{t}{30} + \\frac{2}{3}\\right) - 7 t \\left(- \\frac{t}{6} + \\frac{5}{6}\\right) \\left(- \\frac{t}{11} + \\frac{10}{11}\\right) \\left(- \\frac{t}{21} + \\frac{20}{21}\\right) \\left(\\frac{t}{9} + \\frac{10}{9}\\right) \\left(\\frac{t}{3} + \\frac{4}{3}\\right) + \\frac{t}{10} \\left(- \\frac{t}{10} + 2\\right) \\left(\\frac{t}{20} + \\frac{1}{2}\\right) \\left(\\frac{t}{14} + \\frac{2}{7}\\right) \\left(\\frac{t}{11} + \\frac{1}{11}\\right) \\left(\\frac{t}{5} - 1\\right) + \\frac{3 t}{10} \\left(\\frac{t}{30} + \\frac{1}{3}\\right) \\left(\\frac{t}{24} + \\frac{1}{6}\\right) \\left(\\frac{t}{21} + \\frac{1}{21}\\right) \\left(\\frac{t}{15} - \\frac{1}{3}\\right) \\left(\\frac{t}{10} - 1\\right) + 4 \\left(- \\frac{t}{5} + 1\\right) \\left(- \\frac{t}{10} + 1\\right) \\left(- \\frac{t}{20} + 1\\right) \\left(\\frac{t}{10} + 1\\right) \\left(\\frac{t}{4} + 1\\right) \\left(t + 1\\right)$$"
      ],
      "text/plain": [
       "      /  t   1\\ /  t   5\\ /  t    5\\ /  t    5\\ /t   5\\                       \n",
       "  3*t*|- - - -|*|- - + -|*|- -- + -|*|- -- + -|*|- + -|                       \n",
       "      \\  3   3/ \\  9   9/ \\  14   7/ \\  24   6/ \\6   3/     /  t    \\ /  t    \n",
       "- ----------------------------------------------------- + t*|- - + 2|*|- -- + \n",
       "                            4                               \\  5    / \\  15   \n",
       "\n",
       "                                /  t   2\\ /  t   1\\ /  t    1\\ /  t    1\\ /  t\n",
       "                              t*|- - - -|*|- - - -|*|- -- + -|*|- -- + -|*|- -\n",
       "4\\ /t    2\\ /t   4\\ /t   1\\     \\  6   3/ \\  9   9/ \\  15   3/ \\  20   2/ \\  3\n",
       "-|*|-- + -|*|- + -|*|- + -| - ------------------------------------------------\n",
       "3/ \\15   3/ \\9   9/ \\6   6/                             5                     \n",
       "\n",
       "    2\\                                                              /  t     \\\n",
       "- + -|                                                            t*|- -- + 2|\n",
       "0   3/       /  t   5\\ /  t    10\\ /  t    20\\ /t   10\\ /t   4\\     \\  10    /\n",
       "------ - 7*t*|- - + -|*|- -- + --|*|- -- + --|*|- + --|*|- + -| + ------------\n",
       "             \\  6   6/ \\  11   11/ \\  21   21/ \\9   9 / \\3   3/               \n",
       "\n",
       " /t    1\\ /t    2\\ /t    1 \\ /t    \\       /t    1\\ /t    1\\ /t    1 \\ /t    1\n",
       "*|-- + -|*|-- + -|*|-- + --|*|- - 1|   3*t*|-- + -|*|-- + -|*|-- + --|*|-- - -\n",
       " \\20   2/ \\14   7/ \\11   11/ \\5    /       \\30   3/ \\24   6/ \\21   21/ \\15   3\n",
       "------------------------------------ + ---------------------------------------\n",
       "           10                                                  10             \n",
       "\n",
       "\\ /t     \\                                                             \n",
       "|*|-- - 1|                                                             \n",
       "/ \\10    /     /  t    \\ /  t     \\ /  t     \\ /t     \\ /t    \\        \n",
       "---------- + 4*|- - + 1|*|- -- + 1|*|- -- + 1|*|-- + 1|*|- + 1|*(t + 1)\n",
       "               \\  5    / \\  10    / \\  20    / \\10    / \\4    /        "
      ]
     },
     "execution_count": 27,
     "metadata": {},
     "output_type": "execute_result"
    }
   ],
   "source": [
    "g=interpolacionL(x1,y1)"
   ]
  },
  {
   "cell_type": "markdown",
   "metadata": {},
   "source": [
    "# Ejercicio 5"
   ]
  },
  {
   "cell_type": "markdown",
   "metadata": {},
   "source": [
    "Vuelvo a poner las funciones para referenciarlas abajo"
   ]
  },
  {
   "cell_type": "code",
   "execution_count": 89,
   "metadata": {
    "collapsed": false
   },
   "outputs": [],
   "source": [
    "function integracionR(A,a,b,j)\n",
    "    i=1\n",
    "    x=0\n",
    "    while a+i*j < b \n",
    "        h=a+i*j\n",
    "        g=a+(i-1)*j\n",
    "        I=(j)*(A((h+g)/2))\n",
    "        x=x+I\n",
    "        i=i+1\n",
    "    end\n",
    "    return x\n",
    "end;"
   ]
  },
  {
   "cell_type": "code",
   "execution_count": 88,
   "metadata": {
    "collapsed": false
   },
   "outputs": [],
   "source": [
    "function integracionT(A,a,b,j)\n",
    "    i=1\n",
    "    x=0\n",
    "    while a+i*j < b\n",
    "        h=a+i*j\n",
    "        g=a+(i-1)*j\n",
    "        I=(j)*((A(h)+A(g))/2)\n",
    "        x=x+I\n",
    "        i=i+1\n",
    "    end\n",
    "    return x\n",
    "end;"
   ]
  },
  {
   "cell_type": "code",
   "execution_count": 87,
   "metadata": {
    "collapsed": false
   },
   "outputs": [],
   "source": [
    "function integracionS(A,a,b,j)\n",
    "    i=1\n",
    "    x=0\n",
    "    while a+i*j < b \n",
    "        h=a+i*j\n",
    "        g=a+(i-1)*j\n",
    "        I=(j/6)*(A(g)+A(h)+4*A((h+g)/2))\n",
    "        x=x+I\n",
    "        i=i+1\n",
    "    end\n",
    "    return x\n",
    "end;"
   ]
  },
  {
   "cell_type": "code",
   "execution_count": 85,
   "metadata": {
    "collapsed": false
   },
   "outputs": [],
   "source": [
    "z=linspace(0.001,10,100);"
   ]
  },
  {
   "cell_type": "code",
   "execution_count": 86,
   "metadata": {
    "collapsed": false
   },
   "outputs": [],
   "source": [
    "f(c)=-sind(c);"
   ]
  },
  {
   "cell_type": "markdown",
   "metadata": {},
   "source": [
    "Se hace una rutina para obtener las listas con los valores de las integrales para distintas diferencias en los intervalos"
   ]
  },
  {
   "cell_type": "code",
   "execution_count": 79,
   "metadata": {
    "collapsed": false
   },
   "outputs": [],
   "source": [
    "q1=zeros(100)\n",
    "w1=zeros(100)\n",
    "b1=zeros(100)\n",
    "r1=zeros(100)\n",
    "for i in 1:100\n",
    "    p1=z[101-i]\n",
    "    q1[i]=integracionR(f,0,360,p1)\n",
    "    w1[i]=integracionT(f,0,360,p1)\n",
    "    b1[i]=integracionS(f,0,360,p1)\n",
    "    r1[i]=1/z[101-i]\n",
    "end "
   ]
  },
  {
   "cell_type": "markdown",
   "metadata": {},
   "source": [
    "Se grafica la convergencia de la integral respecto a $1/ \\delta x$ para los tres métodos (intenté poner las gráficas juntas pero no se notaba la diferencia entre ellas)"
   ]
  },
  {
   "cell_type": "code",
   "execution_count": 84,
   "metadata": {
    "collapsed": false
   },
   "outputs": [
    {
     "data": {
      "image/png": "[encoded data removed]",
      "text/plain": [
       "PyPlot.Figure(PyObject <matplotlib.figure.Figure object at 0x7f9435304b50>)"
      ]
     },
     "metadata": {},
     "output_type": "display_data"
    }
   ],
   "source": [
    "xlabel(\"1/delta x\")\n",
    "ylabel(\"Valor de la integral\")\n",
    "title(\"Riemann\")\n",
    "grid(\"on\")\n",
    "yscale(\"symlog\",linthreshy=0.000001)\n",
    "plot(r1,q1)\n",
    "ylim(-100,1)\n",
    "show();\n"
   ]
  },
  {
   "cell_type": "code",
   "execution_count": 81,
   "metadata": {
    "collapsed": false
   },
   "outputs": [
    {
     "data": {
      "image/png": "[encoded data removed]",
      "text/plain": [
       "PyPlot.Figure(PyObject <matplotlib.figure.Figure object at 0x7f9435774f10>)"
      ]
     },
     "metadata": {},
     "output_type": "display_data"
    }
   ],
   "source": [
    "xlabel(\"1/delta x\")\n",
    "ylabel(\"Valor de la integral\")\n",
    "title(\"Trapecio\")\n",
    "grid(\"on\")\n",
    "yscale(\"symlog\", linthreshy=0.000001)\n",
    "plot(r1,w1)\n",
    "ylim(-100,1)\n",
    "show();\n"
   ]
  },
  {
   "cell_type": "code",
   "execution_count": 82,
   "metadata": {
    "collapsed": false
   },
   "outputs": [
    {
     "data": {
      "image/png": "[encoded data removed]",
      "text/plain": [
       "PyPlot.Figure(PyObject <matplotlib.figure.Figure object at 0x7f9435928650>)"
      ]
     },
     "metadata": {},
     "output_type": "display_data"
    }
   ],
   "source": [
    "xlabel(\"1/delta x\")\n",
    "ylabel(\"Valor de la integral\")\n",
    "title(\"Simpson\")\n",
    "grid(\"on\")\n",
    "yscale(\"symlog\", linthreshy=0.000001)\n",
    "plot(r1,w1)\n",
    "ylim(-100,1)\n",
    "show();\n"
   ]
  }
 ],
 "metadata": {
  "kernelspec": {
   "display_name": "Julia 0.6.0",
   "language": "julia",
   "name": "julia-0.6"
  },
  "language_info": {
   "file_extension": ".jl",
   "mimetype": "application/julia",
   "name": "julia",
   "version": "0.6.0"
  }
 },
 "nbformat": 4,
 "nbformat_minor": 2
}
