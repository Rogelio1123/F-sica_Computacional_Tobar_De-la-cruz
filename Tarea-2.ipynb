{
 "cells": [
  {
   "cell_type": "code",
   "execution_count": 1,
   "metadata": {
    "collapsed": false
   },
   "outputs": [
    {
     "data": {
      "text/plain": [
       "raices (generic function with 1 method)"
      ]
     },
     "execution_count": 1,
     "metadata": {},
     "output_type": "execute_result"
    }
   ],
   "source": [
    "function raices(A)\n",
    "    x=sqrt(A)-1;\n",
    "    for i in 1:10000\n",
    "        x=x-((A-x^2)^(1/2)-x*tand(x))/((-1/(A-x^2)^1/2)-tand(x)-x*((secd(x))^2))\n",
    "    end\n",
    "   y=((A-x^2)^(1/2))-x*tand(x);\n",
    "    println(x)\n",
    "    println(y)\n",
    "end"
   ]
  },
  {
   "cell_type": "code",
   "execution_count": 2,
   "metadata": {
    "collapsed": false
   },
   "outputs": [
    {
     "name": "stdout",
     "output_type": "stream",
     "text": [
      "6.662896685183326\n",
      "-5.995204332975845e-15\n"
     ]
    }
   ],
   "source": [
    "raices(45)"
   ]
  },
  {
   "cell_type": "code",
   "execution_count": null,
   "metadata": {
    "collapsed": true
   },
   "outputs": [],
   "source": []
  }
 ],
 "metadata": {
  "kernelspec": {
   "display_name": "Julia 0.3.12",
   "language": "julia",
   "name": "julia-0.3"
  },
  "language_info": {
   "file_extension": ".jl",
   "mimetype": "application/julia",
   "name": "julia",
   "version": "0.3.12"
  }
 },
 "nbformat": 4,
 "nbformat_minor": 2
}
