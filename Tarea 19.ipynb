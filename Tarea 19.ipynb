{
 "cells": [
  {
   "cell_type": "markdown",
   "metadata": {},
   "source": [
    "# Ejercicio 1"
   ]
  },
  {
   "cell_type": "markdown",
   "metadata": {},
   "source": [
    "La derivada simetrica se realiza de la siguiente forma\n",
    "\\begin{equation}\n",
    "f'(x)=\\frac{f(x+h)-f(x-h)}{2h}\n",
    "\\end{equation}\n",
    "En este caso para hacer la derivada parcial se tendría\n",
    "\\begin{equation}\n",
    "\\frac{\\partial f(x,y,z)}{\\partial x}=\\frac{f(x+h,y,z)-f(x-h,y,z)}{2h}\n",
    "\\end{equation}\n",
    "Y para la segunda parcial\n",
    "\\begin{equation}\n",
    "\\frac{\\partial^2 f(x,y,z)}{\\partial^2 x}=\\frac{\\frac{\\partial f(x+h,y,z)}{\\partial x}-\\frac{\\partial f(x-h,y,z)}{\\partial x}}{2h}\n",
    "\\end{equation}\n",
    "Implica\n",
    "\\begin{equation}\n",
    "\\frac{\\partial^2 f(x,y,z)}{\\partial^2 x}=\\frac{\\frac{f(x+2h,y,z)-f(x,y,z)}{2h}-\\frac{f(x,y,z)-f(x-2h,y,z)}{2h}}{2h}\n",
    "\\end{equation}\n",
    "Por lo tanto la derivada parcial queda como\n",
    "\\begin{equation}\n",
    "\\frac{\\partial^2 f(x,y,z)}{\\partial^2 x}=\\frac{f(x+2h,y,z)+f(x-2h,y,z)-2f(x,y,z)}{4h^2}\n",
    "\\end{equation}\n",
    "Por lo tanto:\n",
    "\\begin{equation}\n",
    "\\nabla ^2=\\frac{f(x+2h,y,z)+f(x-2h,y,z)+f(x,y+2h,z)+f(x,y-2h,z)+f(x,y,z+2h)+f(x,y,z-2h)-6f(x,y,z)}{4h^2}\n",
    "\\end{equation}"
   ]
  },
  {
   "cell_type": "markdown",
   "metadata": {},
   "source": [
    "# Ejercicio 2"
   ]
  },
  {
   "cell_type": "markdown",
   "metadata": {},
   "source": [
    "Empleando la expresión obtenida arriba\n",
    "\\begin{equation}\n",
    "\\frac{\\partial^2 f(x,y,z)}{\\partial^2 x}=\\frac{f(x+2h,y,z)+f(x-2h,y,z)-2f(x,y,z)}{4h^2}\n",
    "\\end{equation}\n",
    "e igualando a cero, se obtiene\n",
    "\\begin{equation}\n",
    "f(x+2h)+f(x-2h)-2f(x)=0\n",
    "\\end{equation}\n",
    "Puesto que en este caso se trabaja en una dimensión, ahora se aplican las condiciones de frontera $f(0)=a$ y $f(1)=b$ con h=0.2 lo que implica\n",
    "\\begin{eqnarray}\n",
    "f(0.4)+f(-0.4)=2a\\\\\n",
    "f(1.4)+f(-1.4)=2b\n",
    "\\end{eqnarray}"
   ]
  },
  {
   "cell_type": "markdown",
   "metadata": {},
   "source": [
    "# Ejercicio 3"
   ]
  },
  {
   "cell_type": "markdown",
   "metadata": {},
   "source": [
    "En este caso se usará la siguiente definición para la derivada\n",
    "\\begin{equation}\n",
    "f'(x)=\\frac{f(x+h)-f(x)}{h}\n",
    "\\end{equation}\n",
    "entonces para las condiciones $f'(0)=a$ y $f'(1)=b$ con h=0.2 se tiene:\n",
    "\\begin{eqnarray}\n",
    "f(0.2)-f(0)=0.2a\\\\\n",
    "f(1.2)-f(1)=0.2b\n",
    "\\end{eqnarray}"
   ]
  },
  {
   "cell_type": "markdown",
   "metadata": {},
   "source": [
    "# Ejercicio 4"
   ]
  },
  {
   "cell_type": "markdown",
   "metadata": {},
   "source": [
    "Si n es el número de columnas, se construye la siguiente función: \n",
    "\\begin{equation}\n",
    "\\phi_{n}(i,j)=n(i-1)+j=k\n",
    "\\end{equation}\n",
    "Por otro lado, también se puede definir la función usando el número de filas m, de la siguiente manera\n",
    "\\begin{equation}\n",
    "\\phi_{m}(i,j)=m(j-1)+i=g\n",
    "\\end{equation}\n",
    "donde \n",
    "\\begin{equation}\n",
    "\\phi_{n}(i,j)=\\phi_{m}(i,j)+ni\n",
    "\\end{equation}\n",
    "Lo que implica\n",
    "\\begin{eqnarray}\n",
    "n(i-1)+j=k\\\\\n",
    "m(j-1)+i=k-ni\n",
    "\\end{eqnarray}\n",
    "La solución a este sistema es\n",
    "\\begin{eqnarray}\n",
    "i=\\frac{k-m(k+n-1)}{1+n-mn}\\\\\n",
    "j=k-n(\\frac{k(1-m)-m-1-n}{1+n-nm})\n",
    "\\end{eqnarray}\n",
    "Entonces la inversa es\n",
    "\\begin{equation}\n",
    "\\phi^{-1}(k)=(\\frac{k-m(k+n-1)}{1+n-mn},k-n(\\frac{k(1-m)-m-1-n}{1+n-nm}))\n",
    "\\end{equation}"
   ]
  },
  {
   "cell_type": "code",
   "execution_count": null,
   "metadata": {},
   "outputs": [],
   "source": []
  }
 ],
 "metadata": {
  "kernelspec": {
   "display_name": "Julia 0.6.0",
   "language": "julia",
   "name": "julia-0.6"
  },
  "language_info": {
   "file_extension": ".jl",
   "mimetype": "application/julia",
   "name": "julia",
   "version": "0.6.0"
  }
 },
 "nbformat": 4,
 "nbformat_minor": 2
}
