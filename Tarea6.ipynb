{
 "cells": [
  {
   "cell_type": "code",
   "execution_count": 4,
   "metadata": {
    "collapsed": false
   },
   "outputs": [
    {
     "name": "stderr",
     "output_type": "stream",
     "text": [
      "\u001b[1m\u001b[36mINFO: \u001b[39m\u001b[22m\u001b[36mPackage SymPy is already installed\n",
      "\u001b[39m\u001b[1m\u001b[36mINFO: \u001b[39m\u001b[22m\u001b[36mMETADATA is out-of-date — you may not have the latest version of SymPy\n",
      "\u001b[39m\u001b[1m\u001b[36mINFO: \u001b[39m\u001b[22m\u001b[36mUse `Pkg.update()` to get the latest versions of your packages\n",
      "\u001b[39m"
     ]
    }
   ],
   "source": [
    "Pkg.add(\"SymPy\");"
   ]
  },
  {
   "cell_type": "code",
   "execution_count": 6,
   "metadata": {
    "collapsed": false
   },
   "outputs": [],
   "source": [
    "using SymPy;"
   ]
  },
  {
   "cell_type": "code",
   "execution_count": 7,
   "metadata": {
    "collapsed": false,
    "scrolled": true
   },
   "outputs": [
    {
     "data": {
      "text/plain": [
       "(A, x, n, m)"
      ]
     },
     "execution_count": 7,
     "metadata": {},
     "output_type": "execute_result"
    },
    {
     "name": "stderr",
     "output_type": "stream",
     "text": [
      "WARNING: Compat.UTF8String is deprecated, use String instead.\n",
      "  likely near /opt/julia_packages/.julia/v0.6/IJulia/src/kernel.jl:31\n",
      "WARNING: Compat.UTF8String is deprecated, use String instead.\n",
      "  likely near /opt/julia_packages/.julia/v0.6/IJulia/src/kernel.jl:31\n",
      "WARNING: Compat.UTF8String is deprecated, use String instead.\n",
      "  likely near /opt/julia_packages/.julia/v0.6/IJulia/src/kernel.jl:31\n",
      "in jprint at /home/juser/.julia/v0.6/SymPy/src/display.jl\n"
     ]
    }
   ],
   "source": [
    "\n",
    "\n",
    "A,x,n,m=symbols(\"A,x,n,m\")\n",
    "\n"
   ]
  },
  {
   "cell_type": "markdown",
   "metadata": {},
   "source": [
    "Método de Riemann"
   ]
  },
  {
   "cell_type": "code",
   "execution_count": 10,
   "metadata": {
    "collapsed": false
   },
   "outputs": [
    {
     "data": {
      "text/plain": [
       "integracionR (generic function with 1 method)"
      ]
     },
     "execution_count": 10,
     "metadata": {},
     "output_type": "execute_result"
    }
   ],
   "source": [
    "function integracionR(A,a,b,j)\n",
    "    i=1\n",
    "    x=0\n",
    "    while a+i*j < b \n",
    "        h=a+i*j\n",
    "        g=a+(i-1)*j\n",
    "        I=(j)*(A((h+g)/2))\n",
    "        x=x+I\n",
    "        i=i+1\n",
    "    end\n",
    "    return x\n",
    "end"
   ]
  },
  {
   "cell_type": "code",
   "execution_count": 15,
   "metadata": {
    "collapsed": false
   },
   "outputs": [
    {
     "data": {
      "text/latex": [
       "$$599.657067494749$$"
      ],
      "text/plain": [
       "599.657067494749"
      ]
     },
     "execution_count": 15,
     "metadata": {},
     "output_type": "execute_result"
    }
   ],
   "source": [
    "integracionR(x^3,1,7,0.001) "
   ]
  },
  {
   "cell_type": "markdown",
   "metadata": {},
   "source": [
    "La integral anterior vale 600"
   ]
  },
  {
   "cell_type": "markdown",
   "metadata": {},
   "source": [
    "Método del trapecio"
   ]
  },
  {
   "cell_type": "code",
   "execution_count": 18,
   "metadata": {
    "collapsed": false
   },
   "outputs": [
    {
     "data": {
      "text/plain": [
       "integracionT (generic function with 2 methods)"
      ]
     },
     "execution_count": 18,
     "metadata": {},
     "output_type": "execute_result"
    }
   ],
   "source": [
    "function integracionT(A,a,b,j)\n",
    "    i=1\n",
    "    x=0\n",
    "    while a+i*j < b\n",
    "        h=a+i*j\n",
    "        g=a+(i-1)*j\n",
    "        I=(j)*((A(h)+A(g))/2)\n",
    "        x=x+I\n",
    "        i=i+1\n",
    "    end\n",
    "    return x\n",
    "end"
   ]
  },
  {
   "cell_type": "code",
   "execution_count": 21,
   "metadata": {
    "collapsed": false
   },
   "outputs": [
    {
     "data": {
      "text/latex": [
       "$$1122.1083504995$$"
      ],
      "text/plain": [
       "1122.10835049950"
      ]
     },
     "execution_count": 21,
     "metadata": {},
     "output_type": "execute_result"
    }
   ],
   "source": [
    "integracionT(x^2,2,15,0.001)"
   ]
  },
  {
   "cell_type": "markdown",
   "metadata": {
    "collapsed": true
   },
   "source": [
    "La integral anterior vale 1122.3333"
   ]
  }
 ],
 "metadata": {
  "kernelspec": {
   "display_name": "Julia 0.6.0",
   "language": "julia",
   "name": "julia-0.6"
  },
  "language_info": {
   "file_extension": ".jl",
   "mimetype": "application/julia",
   "name": "julia",
   "version": "0.6.0"
  }
 },
 "nbformat": 4,
 "nbformat_minor": 2
}
