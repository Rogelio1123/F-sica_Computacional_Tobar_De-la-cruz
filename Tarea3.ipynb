{
 "cells": [
  {
   "cell_type": "code",
   "execution_count": 6,
   "metadata": {
    "collapsed": false
   },
   "outputs": [
    {
     "data": {
      "text/plain": [
       "error (generic function with 1 method)"
      ]
     },
     "execution_count": 6,
     "metadata": {},
     "output_type": "execute_result"
    }
   ],
   "source": [
    "function error(E,A)\n",
    "    x=sqrt(A)-1;\n",
    "    y=E+1\n",
    "    while y>=E\n",
    "        y=(A-x^2)^(1/2)-x*tand(x)\n",
    "        x=x-((A-x^2)^(1/2)-x*tand(x))/((-1/(A-x^2)^1/2)-tand(x)-x*((secd(x))^2))            \n",
    "    end\n",
    "    println(x)\n",
    "    println(y)\n",
    "end"
   ]
  },
  {
   "cell_type": "code",
   "execution_count": 7,
   "metadata": {
    "collapsed": false
   },
   "outputs": [
    {
     "name": "stdout",
     "output_type": "stream",
     "text": [
      "7.984106934086233\n",
      "2.0403766954446567e-5\n"
     ]
    }
   ],
   "source": [
    "error(0.0001,65)"
   ]
  },
  {
   "cell_type": "code",
   "execution_count": null,
   "metadata": {
    "collapsed": true
   },
   "outputs": [],
   "source": []
  }
 ],
 "metadata": {
  "kernelspec": {
   "display_name": "Julia 0.3.12",
   "language": "julia",
   "name": "julia-0.3"
  },
  "language_info": {
   "file_extension": ".jl",
   "mimetype": "application/julia",
   "name": "julia",
   "version": "0.3.12"
  }
 },
 "nbformat": 4,
 "nbformat_minor": 2
}
